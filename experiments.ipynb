{
 "metadata": {
  "language_info": {
   "codemirror_mode": {
    "name": "ipython",
    "version": 3
   },
   "file_extension": ".py",
   "mimetype": "text/x-python",
   "name": "python",
   "nbconvert_exporter": "python",
   "pygments_lexer": "ipython3",
   "version": "3.7.9-final"
  },
  "orig_nbformat": 2,
  "kernelspec": {
   "name": "python3",
   "display_name": "Python 3",
   "language": "python"
  }
 },
 "nbformat": 4,
 "nbformat_minor": 2,
 "cells": [
  {
   "cell_type": "code",
   "execution_count": 1,
   "metadata": {},
   "outputs": [],
   "source": [
    "import gym\n",
    "import gym_maze\n",
    "from utils import save_frames_as_gif, get_state_rep_func\n",
    "from Agents.MCAgent import MCAgent"
   ]
  },
  {
   "cell_type": "code",
   "execution_count": 2,
   "metadata": {},
   "outputs": [
    {
     "output_type": "stream",
     "name": "stdout",
     "text": [
      "pygame 2.0.1 (SDL 2.0.14, Python 3.7.9)\nHello from the pygame community. https://www.pygame.org/contribute.html\n"
     ]
    }
   ],
   "source": [
    "env = gym.make('maze-v0')"
   ]
  },
  {
   "cell_type": "code",
   "execution_count": 3,
   "metadata": {},
   "outputs": [],
   "source": [
    "num_rows = env.observation_space.high.min() - env.observation_space.low.min() + 1\n",
    "num_cols = num_rows\n",
    "num_states = num_rows * num_cols\n",
    "num_actions = env.action_space.n\n",
    "mc_agent = MCAgent(num_states, num_actions, get_state_rep_func((5,5)))"
   ]
  },
  {
   "cell_type": "code",
   "execution_count": 4,
   "metadata": {
    "tags": []
   },
   "outputs": [],
   "source": [
    "num_episodes = 200\n",
    "for _ in range(num_episodes):\n",
    "    observation = env.reset()\n",
    "    episode = mc_agent.generate_episode(env, observation)\n",
    "    env.close()\n",
    "    mc_agent.policy_evaluation([episode])"
   ]
  },
  {
   "cell_type": "code",
   "execution_count": 5,
   "metadata": {},
   "outputs": [
    {
     "output_type": "execute_result",
     "data": {
      "text/plain": [
       "array([[0.   , 0.   , 0.932, 0.   ],\n",
       "       [0.   , 0.   , 0.952, 0.936],\n",
       "       [0.   , 0.956, 0.   , 0.   ],\n",
       "       [0.   , 0.   , 0.   , 0.   ],\n",
       "       [0.   , 0.   , 0.   , 0.   ],\n",
       "       [0.   , 0.   , 0.   , 0.   ],\n",
       "       [0.   , 0.   , 0.   , 0.   ],\n",
       "       [0.   , 0.96 , 0.   , 0.   ],\n",
       "       [0.   , 0.   , 0.988, 0.   ],\n",
       "       [0.   , 0.992, 0.   , 0.   ],\n",
       "       [0.   , 0.   , 0.   , 0.   ],\n",
       "       [0.   , 0.   , 0.   , 0.   ],\n",
       "       [0.   , 0.964, 0.   , 0.   ],\n",
       "       [0.984, 0.   , 0.   , 0.   ],\n",
       "       [0.   , 0.996, 0.   , 0.   ],\n",
       "       [0.   , 0.   , 0.   , 0.   ],\n",
       "       [0.   , 0.   , 0.   , 0.   ],\n",
       "       [0.   , 0.968, 0.   , 0.   ],\n",
       "       [0.98 , 0.   , 0.   , 0.   ],\n",
       "       [0.   , 1.   , 0.   , 0.   ],\n",
       "       [0.   , 0.   , 0.   , 0.   ],\n",
       "       [0.   , 0.   , 0.   , 0.   ],\n",
       "       [0.   , 0.   , 0.972, 0.   ],\n",
       "       [0.976, 0.   , 0.   , 0.   ],\n",
       "       [0.   , 0.   , 0.   , 0.   ]])"
      ]
     },
     "metadata": {},
     "execution_count": 5
    }
   ],
   "source": [
    "mc_agent.value_fn"
   ]
  },
  {
   "cell_type": "code",
   "execution_count": 7,
   "metadata": {
    "tags": []
   },
   "outputs": [
    {
     "output_type": "stream",
     "name": "stdout",
     "text": [
      "Observation [0. 0.]\nState 0\n[0.    0.    0.932 0.   ]\nAction 2\nObservation [1 0]\nState 1\n[0.    0.    0.952 0.936]\nAction 2\nObservation [2 0]\nState 2\n[0.    0.956 0.    0.   ]\nAction 1\nObservation [2 1]\nState 7\n[0.   0.96 0.   0.  ]\nAction 1\nObservation [2 2]\nState 12\n[0.    0.964 0.    0.   ]\nAction 1\nObservation [2 3]\nState 17\n[0.    0.968 0.    0.   ]\nAction 1\nObservation [2 4]\nState 22\n[0.    0.    0.972 0.   ]\nAction 2\nObservation [3 4]\nState 23\n[0.976 0.    0.    0.   ]\nAction 0\nObservation [3 3]\nState 18\n[0.98 0.   0.   0.  ]\nAction 0\nObservation [3 2]\nState 13\n[0.984 0.    0.    0.   ]\nAction 0\nObservation [3 1]\nState 8\n[0.    0.    0.988 0.   ]\nAction 2\nObservation [4 1]\nState 9\n[0.    0.992 0.    0.   ]\nAction 1\nObservation [4 2]\nState 14\n[0.    0.996 0.    0.   ]\nAction 1\nObservation [4 3]\nState 19\n[0. 1. 0. 0.]\nAction 1\n"
     ]
    },
    {
     "output_type": "display_data",
     "data": {
      "text/plain": "<Figure size 640x640 with 1 Axes>",
      "image/svg+xml": "<?xml version=\"1.0\" encoding=\"utf-8\" standalone=\"no\"?>\r\n<!DOCTYPE svg PUBLIC \"-//W3C//DTD SVG 1.1//EN\"\r\n  \"http://www.w3.org/Graphics/SVG/1.1/DTD/svg11.dtd\">\r\n<!-- Created with matplotlib (https://matplotlib.org/) -->\r\n<svg height=\"497.6pt\" version=\"1.1\" viewBox=\"0 0 497.6 497.6\" width=\"497.6pt\" xmlns=\"http://www.w3.org/2000/svg\" xmlns:xlink=\"http://www.w3.org/1999/xlink\">\r\n <metadata>\r\n  <rdf:RDF xmlns:cc=\"http://creativecommons.org/ns#\" xmlns:dc=\"http://purl.org/dc/elements/1.1/\" xmlns:rdf=\"http://www.w3.org/1999/02/22-rdf-syntax-ns#\">\r\n   <cc:Work>\r\n    <dc:type rdf:resource=\"http://purl.org/dc/dcmitype/StillImage\"/>\r\n    <dc:date>2021-01-03T12:31:40.000441</dc:date>\r\n    <dc:format>image/svg+xml</dc:format>\r\n    <dc:creator>\r\n     <cc:Agent>\r\n      <dc:title>Matplotlib v3.3.3, https://matplotlib.org/</dc:title>\r\n     </cc:Agent>\r\n    </dc:creator>\r\n   </cc:Work>\r\n  </rdf:RDF>\r\n </metadata>\r\n <defs>\r\n  <style type=\"text/css\">*{stroke-linecap:butt;stroke-linejoin:round;}</style>\r\n </defs>\r\n <g id=\"figure_1\">\r\n  <g id=\"patch_1\">\r\n   <path d=\"M 0 497.6 \r\nL 497.6 497.6 \r\nL 497.6 0 \r\nL 0 0 \r\nz\r\n\" style=\"fill:none;\"/>\r\n  </g>\r\n  <g id=\"axes_1\">\r\n   <g clip-path=\"url(#p8645ffd878)\">\r\n    <image height=\"484\" id=\"imagee2e66edab3\" transform=\"scale(1 -1)translate(0 -484)\" width=\"484\" x=\"7.2\" xlink:href=\"data:image/png;base64,\r\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\" y=\"-6.4\"/>\r\n   </g>\r\n  </g>\r\n </g>\r\n <defs>\r\n  <clipPath id=\"p8645ffd878\">\r\n   <rect height=\"483.2\" width=\"483.2\" x=\"7.2\" y=\"7.2\"/>\r\n  </clipPath>\r\n </defs>\r\n</svg>\r\n",
      "image/png": "[encoded data removed]"
     },
     "metadata": {
      "needs_background": "light"
     }
    }
   ],
   "source": [
    "done = False\n",
    "observation = env.reset()\n",
    "frames = []\n",
    "frames.append(env.render(mode='rgb_array'))\n",
    "while not done:\n",
    "    print(\"Observation\", observation)\n",
    "    action = mc_agent.step(observation, True)\n",
    "    observation, reward, done, info  = env.step(action)\n",
    "    frames.append(env.render(mode='rgb_array'))\n",
    "save_frames_as_gif(frames, 15)"
   ]
  },
  {
   "cell_type": "code",
   "execution_count": null,
   "metadata": {},
   "outputs": [],
   "source": []
  }
 ]
}