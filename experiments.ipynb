{
 "metadata": {
  "language_info": {
   "codemirror_mode": {
    "name": "ipython",
    "version": 3
   },
   "file_extension": ".py",
   "mimetype": "text/x-python",
   "name": "python",
   "nbconvert_exporter": "python",
   "pygments_lexer": "ipython3",
   "version": "3.7.9-final"
  },
  "orig_nbformat": 2,
  "kernelspec": {
   "name": "python3",
   "display_name": "Python 3",
   "language": "python"
  }
 },
 "nbformat": 4,
 "nbformat_minor": 2,
 "cells": [
  {
   "cell_type": "code",
   "execution_count": null,
   "metadata": {},
   "outputs": [],
   "source": [
    "import gym\n",
    "import gym_maze\n",
    "from utils import save_frames_as_gif, get_state_rep_func\n",
    "from Agents.MCAgent import MCAgent\n",
    "import numpy as np"
   ]
  },
  {
   "cell_type": "code",
   "execution_count": null,
   "metadata": {},
   "outputs": [],
   "source": [
    "env = gym.make('maze-v0')\n",
    "env.reset()"
   ]
  },
  {
   "cell_type": "code",
   "execution_count": null,
   "metadata": {},
   "outputs": [],
   "source": [
    "num_rows = env.observation_space.high.min() - env.observation_space.low.min() + 1\n",
    "num_cols = num_rows\n",
    "num_states = num_rows * num_cols\n",
    "num_actions = env.action_space.n\n",
    "mc_agent = MCAgent(num_states, num_actions, get_state_rep_func((5,5)))"
   ]
  },
  {
   "cell_type": "code",
   "execution_count": null,
   "metadata": {
    "tags": []
   },
   "outputs": [],
   "source": [
    "num_episodes = 1000\n",
    "for _ in range(num_episodes):\n",
    "    observation = env.reset()\n",
    "    episode = mc_agent.generate_episode(env, observation)\n",
    "    env.close()\n",
    "    mc_agent.policy_evaluation([episode])\n",
    "np.round(mc_agent.value_fn, 2)"
   ]
  },
  {
   "cell_type": "code",
   "execution_count": null,
   "metadata": {
    "tags": []
   },
   "outputs": [],
   "source": [
    "done = False\n",
    "total_reward = 0\n",
    "observation = env.reset()\n",
    "frames = []\n",
    "while not done:\n",
    "    action = mc_agent.step(observation)\n",
    "    observation, reward, done, info  = env.step(action)\n",
    "    total_reward += reward\n",
    "    frames.append(env.render(mode='rgb_array'))\n",
    "save_frames_as_gif(frames, 5)\n",
    "env.close()\n",
    "print(total_reward)"
   ]
  },
  {
   "cell_type": "code",
   "execution_count": null,
   "metadata": {},
   "outputs": [],
   "source": []
  }
 ]
}